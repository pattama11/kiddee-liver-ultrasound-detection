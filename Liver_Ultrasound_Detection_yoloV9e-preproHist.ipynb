{
 "cells": [
  {
   "cell_type": "code",
   "execution_count": 8,
   "id": "7793bdc6-8a23-40c7-835c-4642dddc6d0b",
   "metadata": {},
   "outputs": [],
   "source": [
    "import os"
   ]
  },
  {
   "cell_type": "code",
   "execution_count": 9,
   "id": "ba7b7588-a409-4c8f-81d7-a64b2ad76b3b",
   "metadata": {},
   "outputs": [
    {
     "name": "stdout",
     "output_type": "stream",
     "text": [
      "Thu May 30 19:01:47 2024       \n",
      "+-----------------------------------------------------------------------------+\n",
      "| NVIDIA-SMI 525.105.17   Driver Version: 525.105.17   CUDA Version: 12.0     |\n",
      "|-------------------------------+----------------------+----------------------+\n",
      "| GPU  Name        Persistence-M| Bus-Id        Disp.A | Volatile Uncorr. ECC |\n",
      "| Fan  Temp  Perf  Pwr:Usage/Cap|         Memory-Usage | GPU-Util  Compute M. |\n",
      "|                               |                      |               MIG M. |\n",
      "|===============================+======================+======================|\n",
      "|   0  NVIDIA A100-SXM...  On   | 00000000:03:00.0 Off |                    0 |\n",
      "| N/A   36C    P0    50W / 400W |      0MiB / 40960MiB |      0%      Default |\n",
      "|                               |                      |             Disabled |\n",
      "+-------------------------------+----------------------+----------------------+\n",
      "|   1  NVIDIA A100-SXM...  On   | 00000000:41:00.0 Off |                    0 |\n",
      "| N/A   34C    P0    52W / 400W |      0MiB / 40960MiB |      0%      Default |\n",
      "|                               |                      |             Disabled |\n",
      "+-------------------------------+----------------------+----------------------+\n",
      "|   2  NVIDIA A100-SXM...  On   | 00000000:81:00.0 Off |                    0 |\n",
      "| N/A   36C    P0    51W / 400W |      0MiB / 40960MiB |      0%      Default |\n",
      "|                               |                      |             Disabled |\n",
      "+-------------------------------+----------------------+----------------------+\n",
      "|   3  NVIDIA A100-SXM...  On   | 00000000:C1:00.0 Off |                    0 |\n",
      "| N/A   34C    P0    48W / 400W |      0MiB / 40960MiB |      0%      Default |\n",
      "|                               |                      |             Disabled |\n",
      "+-------------------------------+----------------------+----------------------+\n",
      "                                                                               \n",
      "+-----------------------------------------------------------------------------+\n",
      "| Processes:                                                                  |\n",
      "|  GPU   GI   CI        PID   Type   Process name                  GPU Memory |\n",
      "|        ID   ID                                                   Usage      |\n",
      "|=============================================================================|\n",
      "|  No running processes found                                                 |\n",
      "+-----------------------------------------------------------------------------+\n"
     ]
    }
   ],
   "source": [
    "!nvidia-smi"
   ]
  },
  {
   "cell_type": "code",
   "execution_count": 10,
   "id": "375aabc9-c499-4c7d-979d-47dda79cfac2",
   "metadata": {},
   "outputs": [],
   "source": [
    "# !mkdir data/liver-ultrasound-detection-unzip/images\n",
    "# !mkdir data/liver-ultrasound-detection-unzip/labels\n",
    "# !mkdir data/liver-ultrasound-detection-unzip/images/train\n",
    "# !mkdir data/liver-ultrasound-detection-unzip/labels/train\n",
    "# !mkdir data/liver-ultrasound-detection-unzip/images/val\n",
    "# !mkdir data/liver-ultrasound-detection-unzip/labels/val\n",
    "# !mkdir data/liver-ultrasound-detection-unzip/images/test\n",
    "\n",
    "# !mv data/liver-ultrasound-detection-unzip/train/train/images/* data/liver-ultrasound-detection-unzip/images/train\n",
    "# !mv data/liver-ultrasound-detection-unzip/train/train/annotations/* data/liver-ultrasound-detection-unzip/labels/train\n",
    "\n",
    "# !mv data/liver-ultrasound-detection-unzip/val/val/images/* data/liver-ultrasound-detection-unzip/images/val\n",
    "# !mv data/liver-ultrasound-detection-unzip/val/val/annotations/* data/liver-ultrasound-detection-unzip/labels/val\n",
    "\n",
    "# !mv data/liver-ultrasound-detection-unzip/test/test/images/* data/liver-ultrasound-detection-unzip/images/test\n",
    "# !mv data/liver-ultrasound-detection-unzip/images/test/images/* data/liver-ultrasound-detection-unzip/images/test\n",
    "\n",
    "# !mkdir data/liver-ultrasound-detection-unzip/datasets\n",
    "# !mv data/liver-ultrasound-detection-unzip/images data/liver-ultrasound-detection-unzip/datasets\n",
    "# !mv data/liver-ultrasound-detection-unzip/labels data/liver-ultrasound-detection-unzip/datasets\n",
    "# !mv data/liver-ultrasound-detection-unzip/datasets/images data/liver-ultrasound-detection-unzip\n",
    "# !mv data/liver-ultrasound-detection-unzip/datasets/labels data/liver-ultrasound-detection-unzip\n",
    "# !mkdir data/liver-ultrasound-detection-unzip/images"
   ]
  },
  {
   "cell_type": "code",
   "execution_count": 11,
   "id": "75e79b4a-bcac-4434-bbd0-9634cb687bf8",
   "metadata": {},
   "outputs": [],
   "source": [
    "# !rm -r data/liver-ultrasound-detection-unzip/train\n",
    "# !rm -r data/liver-ultrasound-detection-unzip/val\n",
    "# # !rmdir /content/test/test/images\n",
    "# # !rmdir /content/test/test\n",
    "# !rm -r data/liver-ultrasound-detection-unzip/test"
   ]
  },
  {
   "cell_type": "code",
   "execution_count": 12,
   "id": "7fa1898f-c3b2-4890-b8a0-30c53a68d299",
   "metadata": {},
   "outputs": [],
   "source": [
    "ROOT = 'data/pre_hisep/'"
   ]
  },
  {
   "cell_type": "code",
   "execution_count": 13,
   "id": "e62e19ba-af89-443b-aa1a-430287850e79",
   "metadata": {},
   "outputs": [],
   "source": [
    "# !rm -r 'data/pre_hisep/images/val/.ipynb_checkpoints'\n",
    "# !rm -r 'data/pre_hisep/labels/val/.ipynb_checkpoints'\n",
    "# !rm -r 'data/pre_hisep/images/test/.ipynb_checkpoints'"
   ]
  },
  {
   "cell_type": "code",
   "execution_count": 14,
   "id": "fe2c7855-b68a-460c-9785-90c786bf5b79",
   "metadata": {},
   "outputs": [
    {
     "name": "stdout",
     "output_type": "stream",
     "text": [
      "Number of train images : 14448\n",
      "Number of train labels : 7222\n",
      "Number of train images : 14448\n",
      "Number of train labels : 7222\n"
     ]
    }
   ],
   "source": [
    "print('Number of train images : ' + str(len(os.listdir('data/liver-ultrasound-detection-unzip/images/train'))))\n",
    "print('Number of train labels : ' + str(len(os.listdir('data/liver-ultrasound-detection-unzip/labels/train'))))\n",
    "\n",
    "print('Number of train images : ' + str(len(os.listdir(ROOT + 'images/train'))))\n",
    "print('Number of train labels : ' + str(len(os.listdir(ROOT + 'labels/train'))))"
   ]
  },
  {
   "cell_type": "code",
   "execution_count": 15,
   "id": "3cc3b817-c7ee-4dc0-a42a-171404e74f01",
   "metadata": {},
   "outputs": [
    {
     "name": "stdout",
     "output_type": "stream",
     "text": [
      "Number of val images : 4898\n",
      "Number of val labels : 2446\n",
      "Number of val images : 4898\n",
      "Number of val labels : 2445\n"
     ]
    }
   ],
   "source": [
    "print('Number of val images : ' + str(len(os.listdir('data/liver-ultrasound-detection-unzip/images/val'))))\n",
    "print('Number of val labels : ' + str(len(os.listdir('data/liver-ultrasound-detection-unzip/labels/val'))))\n",
    "\n",
    "print('Number of val images : ' + str(len(os.listdir(ROOT + 'images/val'))))\n",
    "print('Number of val labels : ' + str(len(os.listdir(ROOT + 'labels/val'))))"
   ]
  },
  {
   "cell_type": "code",
   "execution_count": 16,
   "id": "b80efef2-cd0c-479e-a7a1-9c2913a42eaa",
   "metadata": {},
   "outputs": [
    {
     "name": "stdout",
     "output_type": "stream",
     "text": [
      "Number of test images : 5153\n",
      "Number of test images : 5153\n"
     ]
    }
   ],
   "source": [
    "print('Number of test images : ' + str(len(os.listdir('data/liver-ultrasound-detection-unzip/images/test'))))\n",
    "\n",
    "print('Number of test images : ' + str(len(os.listdir(ROOT + 'images/test'))))"
   ]
  },
  {
   "cell_type": "code",
   "execution_count": 17,
   "id": "f2ae0bda-772e-41f1-9449-8a7ac1d8a71f",
   "metadata": {},
   "outputs": [],
   "source": [
    "# for i in os.listdir('data/pre_hisep/images/val/'):\n",
    "#     src_path = 'data/pre_hisep/images/val/' + i \n",
    "#     des_path = 'data/pre_hisep/images/val/' + 'hiseq' + i[2:]\n",
    "#     !mv {src_path} {des_path}\n",
    "# for i in os.listdir('data/pre_hisep/images/train/'):\n",
    "#     src_path = 'data/pre_hisep/images/train/' + i\n",
    "#     des_path = 'data/pre_hisep/images/train/' + 'hiseq' + i[2:]\n",
    "#     !mv {src_path} {des_path}"
   ]
  },
  {
   "cell_type": "code",
   "execution_count": 18,
   "id": "34eb7b59-72b7-4d76-b392-80922a8235be",
   "metadata": {},
   "outputs": [
    {
     "name": "stdout",
     "output_type": "stream",
     "text": [
      "YAML file written successfully.\n"
     ]
    }
   ],
   "source": [
    "import yaml\n",
    "\n",
    "# Define the data to be written to the YAML file\n",
    "data = {\n",
    "    'path': ROOT,\n",
    "    'train': 'images/train',\n",
    "    'val': 'images/val',\n",
    "    'test': 'images/test',\n",
    "    'names': {\n",
    "        0: 'FFC',\n",
    "        1: 'FFS',\n",
    "        2: 'HCC',\n",
    "        3: 'cyst',\n",
    "        4: 'hemangioma',\n",
    "        5: 'dysplastic',\n",
    "        6: 'CCA'\n",
    "    }\n",
    "}\n",
    "\n",
    "# Write the data to a YAML file\n",
    "with open(ROOT + 'data.yml', 'w') as file:\n",
    "    yaml.dump(data, file, default_flow_style=False, sort_keys=False)\n",
    "\n",
    "print(\"YAML file written successfully.\")"
   ]
  },
  {
   "cell_type": "code",
   "execution_count": 19,
   "id": "1a0c0d4e-35bb-4779-a54d-e467e151db40",
   "metadata": {},
   "outputs": [],
   "source": [
    "from ultralytics import YOLO\n",
    "\n",
    "# Load a model\n",
    "model = YOLO('yolov9e.pt')"
   ]
  },
  {
   "cell_type": "code",
   "execution_count": 20,
   "id": "c1cedc1e-d3c8-450a-8552-35bddfa148a7",
   "metadata": {},
   "outputs": [
    {
     "name": "stdout",
     "output_type": "stream",
     "text": [
      "YOLOv9e summary: 1225 layers, 58206592 parameters, 0 gradients, 193.0 GFLOPs\n"
     ]
    },
    {
     "data": {
      "text/plain": [
       "(1225, 58206592, 0, 193.0156544)"
      ]
     },
     "execution_count": 20,
     "metadata": {},
     "output_type": "execute_result"
    }
   ],
   "source": [
    "model.info()"
   ]
  },
  {
   "cell_type": "code",
   "execution_count": 24,
   "id": "bc62e23e-522f-441a-9df3-83fa18f90fd9",
   "metadata": {},
   "outputs": [
    {
     "name": "stdout",
     "output_type": "stream",
     "text": [
      "Ultralytics YOLOv8.1.34 🚀 Python-3.9.19 torch-2.3.0+cu121 CUDA:0 (NVIDIA A100-SXM4-40GB, 40338MiB)\n",
      "                                                           CUDA:1 (NVIDIA A100-SXM4-40GB, 40338MiB)\n",
      "                                                           CUDA:2 (NVIDIA A100-SXM4-40GB, 40338MiB)\n",
      "                                                           CUDA:3 (NVIDIA A100-SXM4-40GB, 40338MiB)\n",
      "\u001b[34m\u001b[1mengine/trainer: \u001b[0mtask=detect, mode=train, model=yolov9e.pt, data=./data/pre_hisep/data.yml, epochs=40, time=None, patience=100, batch=64, imgsz=640, save=True, save_period=-1, val_period=1, cache=False, device=[0, 1, 2, 3], workers=8, project=None, name=train15, exist_ok=False, pretrained=True, optimizer=auto, verbose=True, seed=0, deterministic=True, single_cls=False, rect=False, cos_lr=False, close_mosaic=10, resume=False, amp=True, fraction=1.0, profile=False, freeze=None, multi_scale=False, overlap_mask=True, mask_ratio=4, dropout=0.0, val=True, split=val, save_json=False, save_hybrid=False, conf=None, iou=0.7, max_det=300, half=False, dnn=False, plots=True, source=None, vid_stride=1, stream_buffer=False, visualize=False, augment=False, agnostic_nms=False, classes=None, retina_masks=False, embed=None, show=False, save_frames=False, save_txt=False, save_conf=False, save_crop=False, show_labels=True, show_conf=True, show_boxes=True, line_width=None, format=torchscript, keras=False, optimize=False, int8=False, dynamic=False, simplify=False, opset=None, workspace=4, nms=False, lr0=0.01, lrf=0.01, momentum=0.937, weight_decay=0.0005, warmup_epochs=3.0, warmup_momentum=0.8, warmup_bias_lr=0.1, box=7.5, cls=0.5, dfl=1.5, pose=12.0, kobj=1.0, label_smoothing=0.0, nbs=64, hsv_h=0.015, hsv_s=0.7, hsv_v=0.4, degrees=0.0, translate=0.1, scale=0.5, shear=0.0, perspective=0.0, flipud=0.0, fliplr=0.5, bgr=0.0, mosaic=1.0, mixup=0.0, copy_paste=0.0, auto_augment=randaugment, erasing=0.4, crop_fraction=1.0, cfg=None, tracker=botsort.yaml, save_dir=runs/detect/train15\n",
      "\n",
      "                   from  n    params  module                                       arguments                     \n",
      "  0                  -1  1         0  ultralytics.nn.modules.block.Silence         []                            \n",
      "  1                  -1  1      1856  ultralytics.nn.modules.conv.Conv             [3, 64, 3, 2]                 \n",
      "  2                  -1  1     73984  ultralytics.nn.modules.conv.Conv             [64, 128, 3, 2]               \n",
      "  3                  -1  1    252160  ultralytics.nn.modules.block.RepNCSPELAN4    [128, 256, 128, 64, 2]        \n",
      "  4                  -1  1    164352  ultralytics.nn.modules.block.ADown           [256, 256]                    \n",
      "  5                  -1  1   1004032  ultralytics.nn.modules.block.RepNCSPELAN4    [256, 512, 256, 128, 2]       \n",
      "  6                  -1  1    656384  ultralytics.nn.modules.block.ADown           [512, 512]                    \n",
      "  7                  -1  1   4006912  ultralytics.nn.modules.block.RepNCSPELAN4    [512, 1024, 512, 256, 2]      \n",
      "  8                  -1  1   2623488  ultralytics.nn.modules.block.ADown           [1024, 1024]                  \n",
      "  9                  -1  1   4269056  ultralytics.nn.modules.block.RepNCSPELAN4    [1024, 1024, 512, 256, 2]     \n",
      " 10                   1  1      4160  ultralytics.nn.modules.block.CBLinear        [64, [64]]                    \n",
      " 11                   3  1     49344  ultralytics.nn.modules.block.CBLinear        [256, [64, 128]]              \n",
      " 12                   5  1    229824  ultralytics.nn.modules.block.CBLinear        [512, [64, 128, 256]]         \n",
      " 13                   7  1    984000  ultralytics.nn.modules.block.CBLinear        [1024, [64, 128, 256, 512]]   \n",
      " 14                   9  1   2033600  ultralytics.nn.modules.block.CBLinear        [1024, [64, 128, 256, 512, 1024]]\n",
      " 15                   0  1      1856  ultralytics.nn.modules.conv.Conv             [3, 64, 3, 2]                 \n",
      " 16[10, 11, 12, 13, 14, -1]  1         0  ultralytics.nn.modules.block.CBFuse          [[0, 0, 0, 0, 0]]             \n",
      " 17                  -1  1     73984  ultralytics.nn.modules.conv.Conv             [64, 128, 3, 2]               \n",
      " 18[11, 12, 13, 14, -1]  1         0  ultralytics.nn.modules.block.CBFuse          [[1, 1, 1, 1]]                \n",
      " 19                  -1  1    252160  ultralytics.nn.modules.block.RepNCSPELAN4    [128, 256, 128, 64, 2]        \n",
      " 20                  -1  1    164352  ultralytics.nn.modules.block.ADown           [256, 256]                    \n",
      " 21    [12, 13, 14, -1]  1         0  ultralytics.nn.modules.block.CBFuse          [[2, 2, 2]]                   \n",
      " 22                  -1  1   1004032  ultralytics.nn.modules.block.RepNCSPELAN4    [256, 512, 256, 128, 2]       \n",
      " 23                  -1  1    656384  ultralytics.nn.modules.block.ADown           [512, 512]                    \n",
      " 24        [13, 14, -1]  1         0  ultralytics.nn.modules.block.CBFuse          [[3, 3]]                      \n",
      " 25                  -1  1   4006912  ultralytics.nn.modules.block.RepNCSPELAN4    [512, 1024, 512, 256, 2]      \n",
      " 26                  -1  1   2623488  ultralytics.nn.modules.block.ADown           [1024, 1024]                  \n",
      " 27            [14, -1]  1         0  ultralytics.nn.modules.block.CBFuse          [[4]]                         \n",
      " 28                  -1  1   4269056  ultralytics.nn.modules.block.RepNCSPELAN4    [1024, 1024, 512, 256, 2]     \n",
      " 29                  -1  1    787968  ultralytics.nn.modules.block.SPPELAN         [1024, 512, 256]              \n",
      " 30                  -1  1         0  torch.nn.modules.upsampling.Upsample         [None, 2, 'nearest']          \n",
      " 31            [-1, 25]  1         0  ultralytics.nn.modules.conv.Concat           [1]                           \n",
      " 32                  -1  1   4005888  ultralytics.nn.modules.block.RepNCSPELAN4    [1536, 512, 512, 256, 2]      \n",
      " 33                  -1  1         0  torch.nn.modules.upsampling.Upsample         [None, 2, 'nearest']          \n",
      " 34            [-1, 22]  1         0  ultralytics.nn.modules.conv.Concat           [1]                           \n",
      " 35                  -1  1   1069056  ultralytics.nn.modules.block.RepNCSPELAN4    [1024, 256, 256, 128, 2]      \n",
      " 36                  -1  1    164352  ultralytics.nn.modules.block.ADown           [256, 256]                    \n",
      " 37            [-1, 32]  1         0  ultralytics.nn.modules.conv.Concat           [1]                           \n",
      " 38                  -1  1   3612672  ultralytics.nn.modules.block.RepNCSPELAN4    [768, 512, 512, 256, 2]       \n",
      " 39                  -1  1    656384  ultralytics.nn.modules.block.ADown           [512, 512]                    \n",
      " 40            [-1, 29]  1         0  ultralytics.nn.modules.conv.Concat           [1]                           \n",
      " 41                  -1  1  12860416  ultralytics.nn.modules.block.RepNCSPELAN4    [1024, 512, 1024, 512, 2]     \n",
      " 42        [35, 38, 41]  1   5588197  ultralytics.nn.modules.head.Detect           [7, [256, 512, 512]]          \n",
      "YOLOv9e summary: 1225 layers, 58150309 parameters, 58150293 gradients, 192.7 GFLOPs\n",
      "\n",
      "Transferred 1811/1811 items from pretrained weights\n",
      "\u001b[34m\u001b[1mDDP:\u001b[0m debug command /lustrefs/disk/project/lt900127-ai24k3/Jupyter/env/bin/python -m torch.distributed.run --nproc_per_node 4 --master_port 60799 /home/ai4095/.config/Ultralytics/DDP/_temp_y20i7dov139998562936816.py\n"
     ]
    },
    {
     "name": "stderr",
     "output_type": "stream",
     "text": [
      "WARNING:__main__:\n",
      "*****************************************\n",
      "Setting OMP_NUM_THREADS environment variable for each process to be 1 in default, to avoid your system being overloaded, please further tune the variable for optimal performance in your application as needed. \n",
      "*****************************************\n"
     ]
    },
    {
     "name": "stdout",
     "output_type": "stream",
     "text": [
      "Ultralytics YOLOv8.1.34 🚀 Python-3.9.19 torch-2.3.0+cu121 CUDA:0 (NVIDIA A100-SXM4-40GB, 40338MiB)\n",
      "                                                           CUDA:1 (NVIDIA A100-SXM4-40GB, 40338MiB)\n",
      "                                                           CUDA:2 (NVIDIA A100-SXM4-40GB, 40338MiB)\n",
      "                                                           CUDA:3 (NVIDIA A100-SXM4-40GB, 40338MiB)\n"
     ]
    },
    {
     "name": "stderr",
     "output_type": "stream",
     "text": [
      "[W Utils.hpp:166] Warning: Environment variable NCCL_BLOCKING_WAIT is deprecated; use TORCH_NCCL_BLOCKING_WAIT instead (function getCvarBool)\n",
      "[W Utils.hpp:166] Warning: Environment variable NCCL_BLOCKING_WAIT is deprecated; use TORCH_NCCL_BLOCKING_WAIT instead (function getCvarBool)\n",
      "[W Utils.hpp:166] Warning: Environment variable NCCL_BLOCKING_WAIT is deprecated; use TORCH_NCCL_BLOCKING_WAIT instead (function getCvarBool)\n"
     ]
    },
    {
     "name": "stdout",
     "output_type": "stream",
     "text": [
      "\u001b[34m\u001b[1mTensorBoard: \u001b[0mStart with 'tensorboard --logdir runs/detect/train15', view at http://localhost:6006/\n",
      "Overriding model.yaml nc=80 with nc=7\n",
      "Transferred 1805/1811 items from pretrained weights\n",
      "Freezing layer 'model.42.dfl.conv.weight'\n",
      "\u001b[34m\u001b[1mAMP: \u001b[0mrunning Automatic Mixed Precision (AMP) checks with YOLOv8n...\n",
      "Downloading https://github.com/ultralytics/assets/releases/download/v8.1.0/yolov8n.pt to 'yolov8n.pt'...\n",
      "\u001b[34m\u001b[1mAMP: \u001b[0mchecks skipped ⚠️, offline and unable to download YOLOv8n. Setting 'amp=True'. If you experience zero-mAP or NaN losses you can disable AMP with amp=False.\n"
     ]
    },
    {
     "name": "stderr",
     "output_type": "stream",
     "text": [
      "[W Utils.hpp:166] Warning: Environment variable NCCL_BLOCKING_WAIT is deprecated; use TORCH_NCCL_BLOCKING_WAIT instead (function getCvarBool)\n",
      "[rank0]:[W Utils.hpp:108] Warning: Environment variable NCCL_BLOCKING_WAIT is deprecated; use TORCH_NCCL_BLOCKING_WAIT instead (function getCvarString)\n",
      "[rank3]:[W Utils.hpp:108] Warning: Environment variable NCCL_BLOCKING_WAIT is deprecated; use TORCH_NCCL_BLOCKING_WAIT instead (function getCvarString)\n",
      "[rank1]:[W Utils.hpp:108] Warning: Environment variable NCCL_BLOCKING_WAIT is deprecated; use TORCH_NCCL_BLOCKING_WAIT instead (function getCvarString)\n",
      "[rank2]:[W Utils.hpp:108] Warning: Environment variable NCCL_BLOCKING_WAIT is deprecated; use TORCH_NCCL_BLOCKING_WAIT instead (function getCvarString)\n",
      "\u001b[34m\u001b[1mtrain: \u001b[0mScanning /lustrefs/disk/project/lt900127-ai24k3/Jupyter/data/pre_hisep/l\u001b[0m\n"
     ]
    },
    {
     "name": "stdout",
     "output_type": "stream",
     "text": [
      "\u001b[34m\u001b[1malbumentations: \u001b[0mBlur(p=0.01, blur_limit=(3, 7)), MedianBlur(p=0.01, blur_limit=(3, 7)), ToGray(p=0.01), CLAHE(p=0.01, clip_limit=(1, 4.0), tile_grid_size=(8, 8))\n"
     ]
    },
    {
     "name": "stderr",
     "output_type": "stream",
     "text": [
      "\u001b[34m\u001b[1mval: \u001b[0mScanning /lustrefs/disk/project/lt900127-ai24k3/Jupyter/data/pre_hisep/lab\u001b[0m\n"
     ]
    },
    {
     "name": "stdout",
     "output_type": "stream",
     "text": [
      "Plotting labels to runs/detect/train15/labels.jpg... \n",
      "\u001b[34m\u001b[1moptimizer:\u001b[0m 'optimizer=auto' found, ignoring 'lr0=0.01' and 'momentum=0.937' and determining best 'optimizer', 'lr0' and 'momentum' automatically... \n",
      "\u001b[34m\u001b[1moptimizer:\u001b[0m AdamW(lr=0.000714, momentum=0.9) with parameter groups 298 weight(decay=0.0), 310 weight(decay=0.0005), 309 bias(decay=0.0)\n",
      "\u001b[34m\u001b[1mTensorBoard: \u001b[0mmodel graph visualization added ✅\n",
      "Image sizes 640 train, 640 val\n",
      "Using 32 dataloader workers\n",
      "Logging results to \u001b[1mruns/detect/train15\u001b[0m\n",
      "Starting training for 40 epochs...\n",
      "\n",
      "      Epoch    GPU_mem   box_loss   cls_loss   dfl_loss  Instances       Size\n"
     ]
    },
    {
     "name": "stderr",
     "output_type": "stream",
     "text": [
      "       1/40      20.9G        2.2       4.66      1.856         14        640: \n",
      "                 Class     Images  Instances      Box(P          R      mAP50  /lustrefs/disk/project/lt900127-ai24k3/Jupyter/env/lib/python3.9/site-packages/torch/nn/modules/conv.py:456: UserWarning: Plan failed with a cudnnException: CUDNN_BACKEND_EXECUTION_PLAN_DESCRIPTOR: cudnnFinalize Descriptor Failed cudnn_status: CUDNN_STATUS_NOT_SUPPORTED (Triggered internally at ../aten/src/ATen/native/cudnn/Conv_v8.cpp:919.)\n",
      "  return F.conv2d(input, weight, bias, self.stride,\n",
      "                 Class     Images  Instances      Box(P          R      mAP50  \n"
     ]
    },
    {
     "name": "stdout",
     "output_type": "stream",
     "text": [
      "                   all       4898       2910      0.195      0.102     0.0195    0.00684\n",
      "\n",
      "      Epoch    GPU_mem   box_loss   cls_loss   dfl_loss  Instances       Size\n"
     ]
    },
    {
     "name": "stderr",
     "output_type": "stream",
     "text": [
      "       2/40      20.2G      2.308      3.607      1.928          7        640: \n",
      "                 Class     Images  Instances      Box(P          R      mAP50  \n"
     ]
    },
    {
     "name": "stdout",
     "output_type": "stream",
     "text": [
      "                   all       4898       2910      0.234      0.105     0.0216    0.00766\n",
      "\n",
      "      Epoch    GPU_mem   box_loss   cls_loss   dfl_loss  Instances       Size\n"
     ]
    },
    {
     "name": "stderr",
     "output_type": "stream",
     "text": [
      "       3/40      20.2G      2.308      3.519       1.89         12        640: \n",
      "                 Class     Images  Instances      Box(P          R      mAP50  \n"
     ]
    },
    {
     "name": "stdout",
     "output_type": "stream",
     "text": [
      "                   all       4898       2910     0.0319     0.0732     0.0101    0.00414\n",
      "\n",
      "      Epoch    GPU_mem   box_loss   cls_loss   dfl_loss  Instances       Size\n"
     ]
    },
    {
     "name": "stderr",
     "output_type": "stream",
     "text": [
      "       4/40      20.2G      2.251       3.29      1.858         15        640: \n",
      "                 Class     Images  Instances      Box(P          R      mAP50  \n"
     ]
    },
    {
     "name": "stdout",
     "output_type": "stream",
     "text": [
      "                   all       4898       2910      0.169      0.189      0.111     0.0427\n",
      "\n",
      "      Epoch    GPU_mem   box_loss   cls_loss   dfl_loss  Instances       Size\n"
     ]
    },
    {
     "name": "stderr",
     "output_type": "stream",
     "text": [
      "       5/40      20.2G      2.147      3.011      1.815         14        640: \n",
      "                 Class     Images  Instances      Box(P          R      mAP50  \n"
     ]
    },
    {
     "name": "stdout",
     "output_type": "stream",
     "text": [
      "                   all       4898       2910       0.25      0.188      0.163      0.069\n",
      "\n",
      "      Epoch    GPU_mem   box_loss   cls_loss   dfl_loss  Instances       Size\n"
     ]
    },
    {
     "name": "stderr",
     "output_type": "stream",
     "text": [
      "       6/40      20.1G       2.08      2.802      1.743         21        640: \n",
      "                 Class     Images  Instances      Box(P          R      mAP50  \n"
     ]
    },
    {
     "name": "stdout",
     "output_type": "stream",
     "text": [
      "                   all       4898       2910      0.321      0.226      0.182     0.0768\n",
      "\n",
      "      Epoch    GPU_mem   box_loss   cls_loss   dfl_loss  Instances       Size\n"
     ]
    },
    {
     "name": "stderr",
     "output_type": "stream",
     "text": [
      "       7/40      20.2G      2.048      2.684      1.735         18        640: \n",
      "                 Class     Images  Instances      Box(P          R      mAP50  \n"
     ]
    },
    {
     "name": "stdout",
     "output_type": "stream",
     "text": [
      "                   all       4898       2910      0.289      0.264      0.208      0.086\n"
     ]
    },
    {
     "name": "stderr",
     "output_type": "stream",
     "text": [
      "  0%|          | 0/226 [00:00<?, ?it/s]"
     ]
    },
    {
     "name": "stdout",
     "output_type": "stream",
     "text": [
      "\n",
      "      Epoch    GPU_mem   box_loss   cls_loss   dfl_loss  Instances       Size\n"
     ]
    },
    {
     "name": "stderr",
     "output_type": "stream",
     "text": [
      "       8/40      20.1G      1.954      2.526      1.686         16        640: \n",
      "                 Class     Images  Instances      Box(P          R      mAP50  \n"
     ]
    },
    {
     "name": "stdout",
     "output_type": "stream",
     "text": [
      "                   all       4898       2910      0.357      0.276      0.244      0.103\n",
      "\n",
      "      Epoch    GPU_mem   box_loss   cls_loss   dfl_loss  Instances       Size\n"
     ]
    },
    {
     "name": "stderr",
     "output_type": "stream",
     "text": [
      "       9/40      20.2G       1.95      2.445      1.689          8        640: \n",
      "                 Class     Images  Instances      Box(P          R      mAP50  \n"
     ]
    },
    {
     "name": "stdout",
     "output_type": "stream",
     "text": [
      "                   all       4898       2910      0.387      0.306      0.284      0.125\n",
      "\n",
      "      Epoch    GPU_mem   box_loss   cls_loss   dfl_loss  Instances       Size\n"
     ]
    },
    {
     "name": "stderr",
     "output_type": "stream",
     "text": [
      "      10/40      20.1G      1.883      2.309      1.631         16        640: \n",
      "                 Class     Images  Instances      Box(P          R      mAP50  \n"
     ]
    },
    {
     "name": "stdout",
     "output_type": "stream",
     "text": [
      "                   all       4898       2910       0.41      0.316      0.306      0.137\n",
      "\n",
      "      Epoch    GPU_mem   box_loss   cls_loss   dfl_loss  Instances       Size\n"
     ]
    },
    {
     "name": "stderr",
     "output_type": "stream",
     "text": [
      "      11/40      20.2G      1.875      2.217      1.612         11        640: \n",
      "                 Class     Images  Instances      Box(P          R      mAP50  \n"
     ]
    },
    {
     "name": "stdout",
     "output_type": "stream",
     "text": [
      "                   all       4898       2910      0.418      0.344      0.325      0.144\n",
      "\n",
      "      Epoch    GPU_mem   box_loss   cls_loss   dfl_loss  Instances       Size\n"
     ]
    },
    {
     "name": "stderr",
     "output_type": "stream",
     "text": [
      "      12/40      20.1G       1.88      2.163       1.62          8        640: \n",
      "                 Class     Images  Instances      Box(P          R      mAP50  \n"
     ]
    },
    {
     "name": "stdout",
     "output_type": "stream",
     "text": [
      "                   all       4898       2910      0.416      0.362      0.345      0.157\n",
      "\n",
      "      Epoch    GPU_mem   box_loss   cls_loss   dfl_loss  Instances       Size\n"
     ]
    },
    {
     "name": "stderr",
     "output_type": "stream",
     "text": [
      "      13/40      20.2G      1.828      2.069      1.601          8        640: \n",
      "                 Class     Images  Instances      Box(P          R      mAP50  \n"
     ]
    },
    {
     "name": "stdout",
     "output_type": "stream",
     "text": [
      "                   all       4898       2910       0.45      0.353      0.344      0.158\n",
      "\n",
      "      Epoch    GPU_mem   box_loss   cls_loss   dfl_loss  Instances       Size\n"
     ]
    },
    {
     "name": "stderr",
     "output_type": "stream",
     "text": [
      "      14/40      20.1G      1.815      2.006      1.596         35        640: \n",
      "                 Class     Images  Instances      Box(P          R      mAP50  \n"
     ]
    },
    {
     "name": "stdout",
     "output_type": "stream",
     "text": [
      "                   all       4898       2910      0.482      0.393      0.394      0.184\n",
      "\n",
      "      Epoch    GPU_mem   box_loss   cls_loss   dfl_loss  Instances       Size\n"
     ]
    },
    {
     "name": "stderr",
     "output_type": "stream",
     "text": [
      "      15/40      20.2G      1.821      1.941      1.612         17        640: \n",
      "                 Class     Images  Instances      Box(P          R      mAP50  \n"
     ]
    },
    {
     "name": "stdout",
     "output_type": "stream",
     "text": [
      "                   all       4898       2910      0.515      0.385      0.402      0.185\n",
      "\n",
      "      Epoch    GPU_mem   box_loss   cls_loss   dfl_loss  Instances       Size\n"
     ]
    },
    {
     "name": "stderr",
     "output_type": "stream",
     "text": [
      "      16/40      20.1G      1.788        1.9       1.54          7        640: \n",
      "                 Class     Images  Instances      Box(P          R      mAP50  \n"
     ]
    },
    {
     "name": "stdout",
     "output_type": "stream",
     "text": [
      "                   all       4898       2910      0.496      0.398       0.41      0.194\n",
      "\n",
      "      Epoch    GPU_mem   box_loss   cls_loss   dfl_loss  Instances       Size\n"
     ]
    },
    {
     "name": "stderr",
     "output_type": "stream",
     "text": [
      "      17/40      20.2G      1.754      1.817      1.554         17        640: \n",
      "                 Class     Images  Instances      Box(P          R      mAP50  \n"
     ]
    },
    {
     "name": "stdout",
     "output_type": "stream",
     "text": [
      "                   all       4898       2910      0.574      0.398      0.435      0.204\n",
      "\n",
      "      Epoch    GPU_mem   box_loss   cls_loss   dfl_loss  Instances       Size\n"
     ]
    },
    {
     "name": "stderr",
     "output_type": "stream",
     "text": [
      "      18/40      20.1G      1.732      1.754      1.544         12        640: \n",
      "                 Class     Images  Instances      Box(P          R      mAP50  \n"
     ]
    },
    {
     "name": "stdout",
     "output_type": "stream",
     "text": [
      "                   all       4898       2910      0.545      0.405      0.443      0.204\n",
      "\n",
      "      Epoch    GPU_mem   box_loss   cls_loss   dfl_loss  Instances       Size\n"
     ]
    },
    {
     "name": "stderr",
     "output_type": "stream",
     "text": [
      "      19/40      20.2G      1.704       1.68      1.524         19        640: \n",
      "                 Class     Images  Instances      Box(P          R      mAP50  \n"
     ]
    },
    {
     "name": "stdout",
     "output_type": "stream",
     "text": [
      "                   all       4898       2910       0.55      0.443      0.468      0.219\n",
      "\n",
      "      Epoch    GPU_mem   box_loss   cls_loss   dfl_loss  Instances       Size\n"
     ]
    },
    {
     "name": "stderr",
     "output_type": "stream",
     "text": [
      "      20/40      20.1G      1.683      1.641      1.504         21        640: \n",
      "                 Class     Images  Instances      Box(P          R      mAP50  \n"
     ]
    },
    {
     "name": "stdout",
     "output_type": "stream",
     "text": [
      "                   all       4898       2910      0.566       0.47      0.484      0.233\n",
      "\n",
      "      Epoch    GPU_mem   box_loss   cls_loss   dfl_loss  Instances       Size\n"
     ]
    },
    {
     "name": "stderr",
     "output_type": "stream",
     "text": [
      "      21/40      20.2G      1.666      1.605      1.502         12        640: \n",
      "                 Class     Images  Instances      Box(P          R      mAP50  \n"
     ]
    },
    {
     "name": "stdout",
     "output_type": "stream",
     "text": [
      "                   all       4898       2910      0.543      0.477       0.48      0.233\n",
      "\n",
      "      Epoch    GPU_mem   box_loss   cls_loss   dfl_loss  Instances       Size\n"
     ]
    },
    {
     "name": "stderr",
     "output_type": "stream",
     "text": [
      "      22/40      20.1G      1.645      1.558      1.466          9        640: \n",
      "                 Class     Images  Instances      Box(P          R      mAP50  \n"
     ]
    },
    {
     "name": "stdout",
     "output_type": "stream",
     "text": [
      "                   all       4898       2910       0.61      0.456      0.507      0.248\n",
      "\n",
      "      Epoch    GPU_mem   box_loss   cls_loss   dfl_loss  Instances       Size\n"
     ]
    },
    {
     "name": "stderr",
     "output_type": "stream",
     "text": [
      "      23/40      20.2G      1.633      1.491      1.487         13        640: \n",
      "                 Class     Images  Instances      Box(P          R      mAP50  \n"
     ]
    },
    {
     "name": "stdout",
     "output_type": "stream",
     "text": [
      "                   all       4898       2910      0.592      0.486      0.508      0.247\n",
      "\n",
      "      Epoch    GPU_mem   box_loss   cls_loss   dfl_loss  Instances       Size\n"
     ]
    },
    {
     "name": "stderr",
     "output_type": "stream",
     "text": [
      "      24/40      20.1G      1.645      1.461      1.482          8        640: \n",
      "                 Class     Images  Instances      Box(P          R      mAP50  \n"
     ]
    },
    {
     "name": "stdout",
     "output_type": "stream",
     "text": [
      "                   all       4898       2910      0.601      0.508      0.539      0.264\n",
      "\n",
      "      Epoch    GPU_mem   box_loss   cls_loss   dfl_loss  Instances       Size\n"
     ]
    },
    {
     "name": "stderr",
     "output_type": "stream",
     "text": [
      "      25/40      20.1G      1.578      1.389      1.442         10        640: \n",
      "                 Class     Images  Instances      Box(P          R      mAP50  \n"
     ]
    },
    {
     "name": "stdout",
     "output_type": "stream",
     "text": [
      "                   all       4898       2910      0.621      0.499      0.538      0.268\n",
      "\n",
      "      Epoch    GPU_mem   box_loss   cls_loss   dfl_loss  Instances       Size\n"
     ]
    },
    {
     "name": "stderr",
     "output_type": "stream",
     "text": [
      "      26/40      20.2G      1.597      1.392      1.456         15        640: \n",
      "                 Class     Images  Instances      Box(P          R      mAP50  \n"
     ]
    },
    {
     "name": "stdout",
     "output_type": "stream",
     "text": [
      "                   all       4898       2910      0.633      0.509      0.551      0.271\n",
      "\n",
      "      Epoch    GPU_mem   box_loss   cls_loss   dfl_loss  Instances       Size\n"
     ]
    },
    {
     "name": "stderr",
     "output_type": "stream",
     "text": [
      "      27/40      20.1G      1.549      1.298       1.41         15        640: \n",
      "                 Class     Images  Instances      Box(P          R      mAP50  \n"
     ]
    },
    {
     "name": "stdout",
     "output_type": "stream",
     "text": [
      "                   all       4898       2910      0.636      0.531      0.564      0.279\n",
      "\n",
      "      Epoch    GPU_mem   box_loss   cls_loss   dfl_loss  Instances       Size\n"
     ]
    },
    {
     "name": "stderr",
     "output_type": "stream",
     "text": [
      "      28/40      20.1G      1.502      1.271      1.387          7        640: \n",
      "                 Class     Images  Instances      Box(P          R      mAP50  \n"
     ]
    },
    {
     "name": "stdout",
     "output_type": "stream",
     "text": [
      "                   all       4898       2910      0.645      0.505       0.55      0.275\n",
      "\n",
      "      Epoch    GPU_mem   box_loss   cls_loss   dfl_loss  Instances       Size\n"
     ]
    },
    {
     "name": "stderr",
     "output_type": "stream",
     "text": [
      "      29/40      20.1G      1.517      1.277      1.409         12        640: \n",
      "                 Class     Images  Instances      Box(P          R      mAP50  \n"
     ]
    },
    {
     "name": "stdout",
     "output_type": "stream",
     "text": [
      "                   all       4898       2910       0.67      0.509      0.566      0.284\n",
      "\n",
      "      Epoch    GPU_mem   box_loss   cls_loss   dfl_loss  Instances       Size\n"
     ]
    },
    {
     "name": "stderr",
     "output_type": "stream",
     "text": [
      "      30/40      20.1G      1.524      1.231      1.403         14        640: \n",
      "                 Class     Images  Instances      Box(P          R      mAP50  \n"
     ]
    },
    {
     "name": "stdout",
     "output_type": "stream",
     "text": [
      "                   all       4898       2910       0.65      0.532      0.571      0.284\n",
      "Closing dataloader mosaic\n",
      "\u001b[34m\u001b[1malbumentations: \u001b[0mBlur(p=0.01, blur_limit=(3, 7)), MedianBlur(p=0.01, blur_limit=(3, 7)), ToGray(p=0.01), CLAHE(p=0.01, clip_limit=(1, 4.0), tile_grid_size=(8, 8))\n",
      "\n",
      "      Epoch    GPU_mem   box_loss   cls_loss   dfl_loss  Instances       Size\n"
     ]
    },
    {
     "name": "stderr",
     "output_type": "stream",
     "text": [
      "      31/40      20.4G      1.487      1.116      1.456          7        640: \n",
      "                 Class     Images  Instances      Box(P          R      mAP50  \n"
     ]
    },
    {
     "name": "stdout",
     "output_type": "stream",
     "text": [
      "                   all       4898       2910       0.66      0.523      0.568      0.285\n",
      "\n",
      "      Epoch    GPU_mem   box_loss   cls_loss   dfl_loss  Instances       Size\n"
     ]
    },
    {
     "name": "stderr",
     "output_type": "stream",
     "text": [
      "      32/40      20.2G      1.447      1.069      1.422          7        640: \n",
      "                 Class     Images  Instances      Box(P          R      mAP50  \n"
     ]
    },
    {
     "name": "stdout",
     "output_type": "stream",
     "text": [
      "                   all       4898       2910      0.639      0.548      0.581      0.291\n",
      "\n",
      "      Epoch    GPU_mem   box_loss   cls_loss   dfl_loss  Instances       Size\n"
     ]
    },
    {
     "name": "stderr",
     "output_type": "stream",
     "text": [
      "      33/40      20.1G      1.402     0.9929      1.409         23        640: \n",
      "                 Class     Images  Instances      Box(P          R      mAP50  \n"
     ]
    },
    {
     "name": "stdout",
     "output_type": "stream",
     "text": [
      "                   all       4898       2910      0.662      0.542      0.585      0.297\n",
      "\n",
      "      Epoch    GPU_mem   box_loss   cls_loss   dfl_loss  Instances       Size\n"
     ]
    },
    {
     "name": "stderr",
     "output_type": "stream",
     "text": [
      "      34/40      20.1G      1.395     0.9729      1.397          7        640: \n",
      "                 Class     Images  Instances      Box(P          R      mAP50  \n"
     ]
    },
    {
     "name": "stdout",
     "output_type": "stream",
     "text": [
      "                   all       4898       2910      0.648      0.555      0.588      0.302\n",
      "\n",
      "      Epoch    GPU_mem   box_loss   cls_loss   dfl_loss  Instances       Size\n"
     ]
    },
    {
     "name": "stderr",
     "output_type": "stream",
     "text": [
      "      35/40      20.2G      1.349     0.9257      1.366          6        640: \n",
      "                 Class     Images  Instances      Box(P          R      mAP50  \n"
     ]
    },
    {
     "name": "stdout",
     "output_type": "stream",
     "text": [
      "                   all       4898       2910      0.646      0.566      0.585      0.299\n",
      "\n",
      "      Epoch    GPU_mem   box_loss   cls_loss   dfl_loss  Instances       Size\n"
     ]
    },
    {
     "name": "stderr",
     "output_type": "stream",
     "text": [
      "      36/40      20.2G      1.287     0.8553      1.342          5        640: \n",
      "                 Class     Images  Instances      Box(P          R      mAP50  \n"
     ]
    },
    {
     "name": "stdout",
     "output_type": "stream",
     "text": [
      "                   all       4898       2910      0.653      0.558      0.583        0.3\n",
      "\n",
      "      Epoch    GPU_mem   box_loss   cls_loss   dfl_loss  Instances       Size\n"
     ]
    },
    {
     "name": "stderr",
     "output_type": "stream",
     "text": [
      "      37/40      20.2G        1.3     0.8588      1.365         12        640: \n",
      "                 Class     Images  Instances      Box(P          R      mAP50  \n"
     ]
    },
    {
     "name": "stdout",
     "output_type": "stream",
     "text": [
      "                   all       4898       2910      0.661      0.553      0.586      0.299\n",
      "\n",
      "      Epoch    GPU_mem   box_loss   cls_loss   dfl_loss  Instances       Size\n"
     ]
    },
    {
     "name": "stderr",
     "output_type": "stream",
     "text": [
      "      38/40      20.2G      1.273     0.8014       1.34          8        640: \n",
      "                 Class     Images  Instances      Box(P          R      mAP50  \n"
     ]
    },
    {
     "name": "stdout",
     "output_type": "stream",
     "text": [
      "                   all       4898       2910      0.659      0.563      0.587        0.3\n",
      "\n",
      "      Epoch    GPU_mem   box_loss   cls_loss   dfl_loss  Instances       Size\n"
     ]
    },
    {
     "name": "stderr",
     "output_type": "stream",
     "text": [
      "      39/40      20.2G      1.251     0.7829      1.314          6        640: \n",
      "                 Class     Images  Instances      Box(P          R      mAP50  \n"
     ]
    },
    {
     "name": "stdout",
     "output_type": "stream",
     "text": [
      "                   all       4898       2910      0.682      0.556       0.59      0.301\n"
     ]
    },
    {
     "name": "stderr",
     "output_type": "stream",
     "text": [
      "  0%|          | 0/226 [00:00<?, ?it/s]"
     ]
    },
    {
     "name": "stdout",
     "output_type": "stream",
     "text": [
      "\n",
      "      Epoch    GPU_mem   box_loss   cls_loss   dfl_loss  Instances       Size\n"
     ]
    },
    {
     "name": "stderr",
     "output_type": "stream",
     "text": [
      "      40/40      20.1G      1.243     0.7718      1.297          6        640: \n",
      "                 Class     Images  Instances      Box(P          R      mAP50  \n"
     ]
    },
    {
     "name": "stdout",
     "output_type": "stream",
     "text": [
      "                   all       4898       2910      0.674      0.565       0.59      0.301\n",
      "\n",
      "40 epochs completed in 1.652 hours.\n",
      "Optimizer stripped from runs/detect/train15/weights/last.pt, 117.3MB\n",
      "Optimizer stripped from runs/detect/train15/weights/best.pt, 117.3MB\n",
      "\n",
      "Validating runs/detect/train15/weights/best.pt...\n",
      "Ultralytics YOLOv8.1.34 🚀 Python-3.9.19 torch-2.3.0+cu121 CUDA:0 (NVIDIA A100-SXM4-40GB, 40338MiB)\n",
      "                                                           CUDA:1 (NVIDIA A100-SXM4-40GB, 40338MiB)\n",
      "                                                           CUDA:2 (NVIDIA A100-SXM4-40GB, 40338MiB)\n",
      "                                                           CUDA:3 (NVIDIA A100-SXM4-40GB, 40338MiB)\n",
      "YOLOv9e summary (fused): 687 layers, 57381797 parameters, 0 gradients, 189.2 GFLOPs\n"
     ]
    },
    {
     "name": "stderr",
     "output_type": "stream",
     "text": [
      "                 Class     Images  Instances      Box(P          R      mAP50  \n"
     ]
    },
    {
     "name": "stdout",
     "output_type": "stream",
     "text": [
      "                   all       4898       2910      0.649      0.556      0.588      0.302\n",
      "                   FFC       4898        349      0.645      0.573      0.566      0.289\n",
      "                   FFS       4898        629      0.608      0.569      0.569      0.264\n",
      "                   HCC       4898        578      0.745      0.645      0.695      0.401\n",
      "                  cyst       4898        461      0.705      0.586       0.63      0.341\n",
      "            hemangioma       4898        454      0.781      0.674      0.721      0.361\n",
      "            dysplastic       4898        171      0.611      0.667      0.672      0.347\n",
      "                   CCA       4898        268      0.449      0.175      0.266      0.114\n",
      "Speed: 0.1ms preprocess, 6.2ms inference, 0.0ms loss, 0.4ms postprocess per image\n",
      "Results saved to \u001b[1mruns/detect/train15\u001b[0m\n"
     ]
    }
   ],
   "source": [
    "results = model.train(data='./data/pre_hisep/data.yml', epochs=40, batch=64, device=[1]) "
   ]
  },
  {
   "cell_type": "code",
   "execution_count": 25,
   "id": "e33b0ab4-462d-4dee-abb9-be4b41deadf0",
   "metadata": {},
   "outputs": [],
   "source": [
    "model = YOLO('runs/detect/train15/weights/best.pt') #39epoch"
   ]
  },
  {
   "cell_type": "code",
   "execution_count": 26,
   "id": "6cc0eda4-d323-4c21-8e7a-a83a339deff2",
   "metadata": {},
   "outputs": [
    {
     "name": "stdout",
     "output_type": "stream",
     "text": [
      "Ultralytics YOLOv8.1.34 🚀 Python-3.9.19 torch-2.3.0+cu121 CUDA:0 (NVIDIA A100-SXM4-40GB, 40338MiB)\n",
      "YOLOv9e summary (fused): 687 layers, 57381797 parameters, 0 gradients, 189.2 GFLOPs\n"
     ]
    },
    {
     "name": "stderr",
     "output_type": "stream",
     "text": [
      "\u001b[34m\u001b[1mval: \u001b[0mScanning /lustrefs/disk/project/lt900127-ai24k3/Jupyter/data/pre_hisep/labels/val.cache... 2445 images, 2453 backgrounds, 0 corrupt: 100%|██████████| 4898/4898 [00:00<?, ?it/s]\n",
      "                 Class     Images  Instances      Box(P          R      mAP50  mAP50-95):   1%|▏         | 4/307 [00:01<01:26,  3.50it/s]/lustrefs/disk/project/lt900127-ai24k3/Jupyter/env/lib/python3.9/site-packages/torch/nn/modules/conv.py:456: UserWarning: Plan failed with a cudnnException: CUDNN_BACKEND_EXECUTION_PLAN_DESCRIPTOR: cudnnFinalize Descriptor Failed cudnn_status: CUDNN_STATUS_NOT_SUPPORTED (Triggered internally at ../aten/src/ATen/native/cudnn/Conv_v8.cpp:919.)\n",
      "  return F.conv2d(input, weight, bias, self.stride,\n",
      "                 Class     Images  Instances      Box(P          R      mAP50  mAP50-95): 100%|██████████| 307/307 [00:39<00:00,  7.78it/s]\n"
     ]
    },
    {
     "name": "stdout",
     "output_type": "stream",
     "text": [
      "                   all       4898       2910      0.649      0.556      0.588      0.302\n",
      "                   FFC       4898        349      0.645      0.573      0.565      0.289\n",
      "                   FFS       4898        629      0.608      0.569      0.569      0.264\n",
      "                   HCC       4898        578      0.744      0.645      0.695      0.401\n",
      "                  cyst       4898        461      0.705      0.586      0.629      0.341\n",
      "            hemangioma       4898        454      0.781      0.674      0.721      0.361\n",
      "            dysplastic       4898        171      0.611      0.667      0.672      0.347\n",
      "                   CCA       4898        268      0.449      0.175      0.266      0.114\n",
      "Speed: 0.1ms preprocess, 6.4ms inference, 0.0ms loss, 0.5ms postprocess per image\n",
      "Results saved to \u001b[1mruns/detect/val9\u001b[0m\n"
     ]
    }
   ],
   "source": [
    "results_test = model.val()"
   ]
  },
  {
   "cell_type": "code",
   "execution_count": 27,
   "id": "f708300b-f096-406e-81e7-119cd152298a",
   "metadata": {},
   "outputs": [],
   "source": [
    "# results_test = model.test()"
   ]
  },
  {
   "cell_type": "code",
   "execution_count": 28,
   "id": "4becfc7b-98b1-4746-9d1e-669e1f155fbc",
   "metadata": {},
   "outputs": [
    {
     "data": {
      "text/html": [
       "<div>\n",
       "<style scoped>\n",
       "    .dataframe tbody tr th:only-of-type {\n",
       "        vertical-align: middle;\n",
       "    }\n",
       "\n",
       "    .dataframe tbody tr th {\n",
       "        vertical-align: top;\n",
       "    }\n",
       "\n",
       "    .dataframe thead th {\n",
       "        text-align: right;\n",
       "    }\n",
       "</style>\n",
       "<table border=\"1\" class=\"dataframe\">\n",
       "  <thead>\n",
       "    <tr style=\"text-align: right;\">\n",
       "      <th></th>\n",
       "      <th>Image File</th>\n",
       "      <th>Annotation</th>\n",
       "      <th>Label</th>\n",
       "    </tr>\n",
       "  </thead>\n",
       "  <tbody>\n",
       "    <tr>\n",
       "      <th>0</th>\n",
       "      <td>18999</td>\n",
       "      <td>[[281, 183, 339, 266]]</td>\n",
       "      <td>[1]</td>\n",
       "    </tr>\n",
       "    <tr>\n",
       "      <th>1</th>\n",
       "      <td>102037</td>\n",
       "      <td>[[263, 171, 359, 263]]</td>\n",
       "      <td>[4]</td>\n",
       "    </tr>\n",
       "    <tr>\n",
       "      <th>2</th>\n",
       "      <td>138340</td>\n",
       "      <td>[[85, 235, 178, 333]]</td>\n",
       "      <td>[4]</td>\n",
       "    </tr>\n",
       "    <tr>\n",
       "      <th>3</th>\n",
       "      <td>140589</td>\n",
       "      <td>NaN</td>\n",
       "      <td>NaN</td>\n",
       "    </tr>\n",
       "    <tr>\n",
       "      <th>4</th>\n",
       "      <td>20235</td>\n",
       "      <td>NaN</td>\n",
       "      <td>NaN</td>\n",
       "    </tr>\n",
       "    <tr>\n",
       "      <th>...</th>\n",
       "      <td>...</td>\n",
       "      <td>...</td>\n",
       "      <td>...</td>\n",
       "    </tr>\n",
       "    <tr>\n",
       "      <th>5148</th>\n",
       "      <td>3575</td>\n",
       "      <td>NaN</td>\n",
       "      <td>NaN</td>\n",
       "    </tr>\n",
       "    <tr>\n",
       "      <th>5149</th>\n",
       "      <td>190</td>\n",
       "      <td>NaN</td>\n",
       "      <td>NaN</td>\n",
       "    </tr>\n",
       "    <tr>\n",
       "      <th>5150</th>\n",
       "      <td>1404</td>\n",
       "      <td>NaN</td>\n",
       "      <td>NaN</td>\n",
       "    </tr>\n",
       "    <tr>\n",
       "      <th>5151</th>\n",
       "      <td>184</td>\n",
       "      <td>NaN</td>\n",
       "      <td>NaN</td>\n",
       "    </tr>\n",
       "    <tr>\n",
       "      <th>5152</th>\n",
       "      <td>1376</td>\n",
       "      <td>NaN</td>\n",
       "      <td>NaN</td>\n",
       "    </tr>\n",
       "  </tbody>\n",
       "</table>\n",
       "<p>5153 rows × 3 columns</p>\n",
       "</div>"
      ],
      "text/plain": [
       "      Image File              Annotation Label\n",
       "0          18999  [[281, 183, 339, 266]]   [1]\n",
       "1         102037  [[263, 171, 359, 263]]   [4]\n",
       "2         138340   [[85, 235, 178, 333]]   [4]\n",
       "3         140589                     NaN   NaN\n",
       "4          20235                     NaN   NaN\n",
       "...          ...                     ...   ...\n",
       "5148        3575                     NaN   NaN\n",
       "5149         190                     NaN   NaN\n",
       "5150        1404                     NaN   NaN\n",
       "5151         184                     NaN   NaN\n",
       "5152        1376                     NaN   NaN\n",
       "\n",
       "[5153 rows x 3 columns]"
      ]
     },
     "execution_count": 28,
     "metadata": {},
     "output_type": "execute_result"
    }
   ],
   "source": [
    "import pandas as pd\n",
    "sample_submission = pd.read_csv('data/liver-ultrasound-detection-unzip/sample_submission.csv')\n",
    "submission = sample_submission.copy()\n",
    "submission"
   ]
  },
  {
   "cell_type": "code",
   "execution_count": 29,
   "id": "b6872312-845e-477c-8b0e-a853629719bb",
   "metadata": {},
   "outputs": [
    {
     "data": {
      "text/plain": [
       "0                             [[281, 183, 339, 266]]\n",
       "1                             [[263, 171, 359, 263]]\n",
       "2                              [[85, 235, 178, 333]]\n",
       "24      [[270, 195, 335, 253], [268, 264, 316, 286]]\n",
       "115     [[387, 268, 513, 361], [427, 203, 456, 237]]\n",
       "1001                                              []\n",
       "Name: Annotation, dtype: object"
      ]
     },
     "execution_count": 29,
     "metadata": {},
     "output_type": "execute_result"
    }
   ],
   "source": [
    "sample_submission.loc[~sample_submission['Annotation'].isna().values, 'Annotation']"
   ]
  },
  {
   "cell_type": "code",
   "execution_count": 30,
   "id": "40c32e8d-1966-44e4-bbce-b699206586fc",
   "metadata": {},
   "outputs": [
    {
     "data": {
      "text/plain": [
       "Index([0, 1, 2, 24, 115, 1001], dtype='int64')"
      ]
     },
     "execution_count": 30,
     "metadata": {},
     "output_type": "execute_result"
    }
   ],
   "source": [
    "index_sample = sample_submission.loc[~sample_submission['Annotation'].isna().values, 'Annotation'].index\n",
    "index_sample"
   ]
  },
  {
   "cell_type": "code",
   "execution_count": 37,
   "id": "74ac15a1-ce79-4fb0-9e4b-aadd3710fa26",
   "metadata": {},
   "outputs": [
    {
     "data": {
      "application/vnd.jupyter.widget-view+json": {
       "model_id": "117ae95484714ed586e3ee81da0b4557",
       "version_major": 2,
       "version_minor": 0
      },
      "text/plain": [
       "  0%|          | 0/5153 [00:00<?, ?it/s]"
      ]
     },
     "metadata": {},
     "output_type": "display_data"
    }
   ],
   "source": [
    "from tqdm.notebook import tqdm, trange\n",
    "for i in trange(submission.shape[0]):\n",
    "  if i in index_sample:\n",
    "      continue\n",
    "  results = model('data/data_preprocess/images/test/' + str(submission.iloc[i, 0]) + '.jpg', conf=0.25, verbose=False, device=[1])\n",
    "  submission.loc[i,'Annotation'] = str(results[0].boxes.xyxy.round().cpu().numpy().astype(int).tolist())\n",
    "  submission.loc[i,'Label'] = str(results[0].boxes.cls.cpu().numpy().astype(int).tolist())"
   ]
  },
  {
   "cell_type": "code",
   "execution_count": 32,
   "id": "c9b7108c-847e-472f-a4a8-e65c53324d6e",
   "metadata": {},
   "outputs": [
    {
     "data": {
      "text/html": [
       "<div>\n",
       "<style scoped>\n",
       "    .dataframe tbody tr th:only-of-type {\n",
       "        vertical-align: middle;\n",
       "    }\n",
       "\n",
       "    .dataframe tbody tr th {\n",
       "        vertical-align: top;\n",
       "    }\n",
       "\n",
       "    .dataframe thead th {\n",
       "        text-align: right;\n",
       "    }\n",
       "</style>\n",
       "<table border=\"1\" class=\"dataframe\">\n",
       "  <thead>\n",
       "    <tr style=\"text-align: right;\">\n",
       "      <th></th>\n",
       "      <th>Image File</th>\n",
       "      <th>Annotation</th>\n",
       "      <th>Label</th>\n",
       "    </tr>\n",
       "  </thead>\n",
       "  <tbody>\n",
       "    <tr>\n",
       "      <th>0</th>\n",
       "      <td>18999</td>\n",
       "      <td>[[281, 183, 339, 266]]</td>\n",
       "      <td>[1]</td>\n",
       "    </tr>\n",
       "    <tr>\n",
       "      <th>1</th>\n",
       "      <td>102037</td>\n",
       "      <td>[[263, 171, 359, 263]]</td>\n",
       "      <td>[4]</td>\n",
       "    </tr>\n",
       "    <tr>\n",
       "      <th>2</th>\n",
       "      <td>138340</td>\n",
       "      <td>[[85, 235, 178, 333]]</td>\n",
       "      <td>[4]</td>\n",
       "    </tr>\n",
       "    <tr>\n",
       "      <th>3</th>\n",
       "      <td>140589</td>\n",
       "      <td>[[597, 376, 661, 438]]</td>\n",
       "      <td>[4]</td>\n",
       "    </tr>\n",
       "    <tr>\n",
       "      <th>4</th>\n",
       "      <td>20235</td>\n",
       "      <td>[[295, 114, 341, 151]]</td>\n",
       "      <td>[1]</td>\n",
       "    </tr>\n",
       "    <tr>\n",
       "      <th>...</th>\n",
       "      <td>...</td>\n",
       "      <td>...</td>\n",
       "      <td>...</td>\n",
       "    </tr>\n",
       "    <tr>\n",
       "      <th>5148</th>\n",
       "      <td>3575</td>\n",
       "      <td>[]</td>\n",
       "      <td>[]</td>\n",
       "    </tr>\n",
       "    <tr>\n",
       "      <th>5149</th>\n",
       "      <td>190</td>\n",
       "      <td>[]</td>\n",
       "      <td>[]</td>\n",
       "    </tr>\n",
       "    <tr>\n",
       "      <th>5150</th>\n",
       "      <td>1404</td>\n",
       "      <td>[]</td>\n",
       "      <td>[]</td>\n",
       "    </tr>\n",
       "    <tr>\n",
       "      <th>5151</th>\n",
       "      <td>184</td>\n",
       "      <td>[]</td>\n",
       "      <td>[]</td>\n",
       "    </tr>\n",
       "    <tr>\n",
       "      <th>5152</th>\n",
       "      <td>1376</td>\n",
       "      <td>[]</td>\n",
       "      <td>[]</td>\n",
       "    </tr>\n",
       "  </tbody>\n",
       "</table>\n",
       "<p>5153 rows × 3 columns</p>\n",
       "</div>"
      ],
      "text/plain": [
       "      Image File              Annotation Label\n",
       "0          18999  [[281, 183, 339, 266]]   [1]\n",
       "1         102037  [[263, 171, 359, 263]]   [4]\n",
       "2         138340   [[85, 235, 178, 333]]   [4]\n",
       "3         140589  [[597, 376, 661, 438]]   [4]\n",
       "4          20235  [[295, 114, 341, 151]]   [1]\n",
       "...          ...                     ...   ...\n",
       "5148        3575                      []    []\n",
       "5149         190                      []    []\n",
       "5150        1404                      []    []\n",
       "5151         184                      []    []\n",
       "5152        1376                      []    []\n",
       "\n",
       "[5153 rows x 3 columns]"
      ]
     },
     "execution_count": 32,
     "metadata": {},
     "output_type": "execute_result"
    }
   ],
   "source": [
    "submission"
   ]
  },
  {
   "cell_type": "code",
   "execution_count": 33,
   "id": "522d457e-6129-44dc-81b3-3aad9560a597",
   "metadata": {},
   "outputs": [
    {
     "name": "stdout",
     "output_type": "stream",
     "text": [
      "<class 'pandas.core.frame.DataFrame'>\n",
      "RangeIndex: 5153 entries, 0 to 5152\n",
      "Data columns (total 3 columns):\n",
      " #   Column      Non-Null Count  Dtype \n",
      "---  ------      --------------  ----- \n",
      " 0   Image File  5153 non-null   int64 \n",
      " 1   Annotation  5153 non-null   object\n",
      " 2   Label       5153 non-null   object\n",
      "dtypes: int64(1), object(2)\n",
      "memory usage: 120.9+ KB\n"
     ]
    }
   ],
   "source": [
    "submission.info()"
   ]
  },
  {
   "cell_type": "code",
   "execution_count": 34,
   "id": "a0d13271-813e-41a4-84c8-ea9589cb167a",
   "metadata": {},
   "outputs": [
    {
     "name": "stdout",
     "output_type": "stream",
     "text": [
      "True\n",
      "True\n",
      "True\n",
      "True\n",
      "True\n",
      "True\n"
     ]
    }
   ],
   "source": [
    "print(submission.loc[0, 'Label'] == sample_submission.loc[0, 'Label'])\n",
    "print(submission.loc[1, 'Label'] == sample_submission.loc[1, 'Label'])\n",
    "print(submission.loc[2, 'Label'] == sample_submission.loc[2, 'Label'])\n",
    "print(submission.loc[24, 'Label'] == sample_submission.loc[24, 'Label'])\n",
    "print(submission.loc[115, 'Label'] == sample_submission.loc[115, 'Label'])\n",
    "print(submission.loc[1001, 'Label'] == sample_submission.loc[1001, 'Label'])"
   ]
  },
  {
   "cell_type": "code",
   "execution_count": 35,
   "id": "ab28d7e1-78a3-429a-97e0-19220b8a37c1",
   "metadata": {},
   "outputs": [],
   "source": [
    "submission.to_csv('submission_yoloV9e39ep_Hist_conf04.csv', index = False)"
   ]
  },
  {
   "cell_type": "code",
   "execution_count": 36,
   "id": "fdad29e3-90d3-406a-8e82-d4ee68dbf67c",
   "metadata": {},
   "outputs": [
    {
     "data": {
      "text/plain": [
       "3374"
      ]
     },
     "execution_count": 36,
     "metadata": {},
     "output_type": "execute_result"
    }
   ],
   "source": [
    "sum(submission['Annotation'] == pd.read_csv('submission_yoloV9e39ep_conf04.csv')['Annotation'])"
   ]
  },
  {
   "cell_type": "code",
   "execution_count": null,
   "id": "acf3f42f-fe92-4835-abbe-49679fd10c21",
   "metadata": {},
   "outputs": [],
   "source": []
  }
 ],
 "metadata": {
  "kernelspec": {
   "display_name": "Python 3 (ipykernel)",
   "language": "python",
   "name": "python3"
  },
  "language_info": {
   "codemirror_mode": {
    "name": "ipython",
    "version": 3
   },
   "file_extension": ".py",
   "mimetype": "text/x-python",
   "name": "python",
   "nbconvert_exporter": "python",
   "pygments_lexer": "ipython3",
   "version": "3.9.19"
  }
 },
 "nbformat": 4,
 "nbformat_minor": 5
}

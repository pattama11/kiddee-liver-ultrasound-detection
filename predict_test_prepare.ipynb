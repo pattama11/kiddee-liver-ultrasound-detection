{
 "cells": [
  {
   "cell_type": "code",
   "execution_count": 1,
   "id": "b3f610bd-137a-49fb-8473-eefcaa754b45",
   "metadata": {},
   "outputs": [],
   "source": [
    "import os\n",
    "import glob"
   ]
  },
  {
   "cell_type": "code",
   "execution_count": 2,
   "id": "8653d8cb-3822-4d91-9723-d2b8cbd43127",
   "metadata": {},
   "outputs": [
    {
     "name": "stdout",
     "output_type": "stream",
     "text": [
      "Number of test images : 5153\n",
      "Number of test images : 5153\n"
     ]
    }
   ],
   "source": [
    "print('Number of test images : ' + str(len(os.listdir('data/liver-ultrasound-detection-unzip/images/test'))))\n",
    "print('Number of test images : ' + str(len(os.listdir('data/pre_hisep/images/test'))))"
   ]
  },
  {
   "cell_type": "code",
   "execution_count": null,
   "id": "6b6bcedf-857d-4fc4-896a-6604b9fd7cfc",
   "metadata": {},
   "outputs": [],
   "source": []
  },
  {
   "cell_type": "code",
   "execution_count": 26,
   "id": "bbc21900-bc09-4428-8a0b-17be7e8a1a16",
   "metadata": {},
   "outputs": [],
   "source": [
    "from ultralytics import YOLO\n",
    "\n",
    "model = YOLO('runs_yoloV9e/detect/train14/weights/best.pt')"
   ]
  },
  {
   "cell_type": "code",
   "execution_count": 27,
   "id": "4f7eb65b-49b6-41a5-8842-86fa9afe75f7",
   "metadata": {},
   "outputs": [],
   "source": [
    "# results_val = model.val()"
   ]
  },
  {
   "cell_type": "code",
   "execution_count": 28,
   "id": "4a07ccf7-0348-453b-95f2-97346da8d2c5",
   "metadata": {},
   "outputs": [
    {
     "data": {
      "text/html": [
       "<div>\n",
       "<style scoped>\n",
       "    .dataframe tbody tr th:only-of-type {\n",
       "        vertical-align: middle;\n",
       "    }\n",
       "\n",
       "    .dataframe tbody tr th {\n",
       "        vertical-align: top;\n",
       "    }\n",
       "\n",
       "    .dataframe thead th {\n",
       "        text-align: right;\n",
       "    }\n",
       "</style>\n",
       "<table border=\"1\" class=\"dataframe\">\n",
       "  <thead>\n",
       "    <tr style=\"text-align: right;\">\n",
       "      <th></th>\n",
       "      <th>Image File</th>\n",
       "      <th>Annotation</th>\n",
       "      <th>Label</th>\n",
       "    </tr>\n",
       "  </thead>\n",
       "  <tbody>\n",
       "    <tr>\n",
       "      <th>0</th>\n",
       "      <td>18999</td>\n",
       "      <td>[[281, 183, 339, 266]]</td>\n",
       "      <td>[1]</td>\n",
       "    </tr>\n",
       "    <tr>\n",
       "      <th>1</th>\n",
       "      <td>102037</td>\n",
       "      <td>[[263, 171, 359, 263]]</td>\n",
       "      <td>[4]</td>\n",
       "    </tr>\n",
       "    <tr>\n",
       "      <th>2</th>\n",
       "      <td>138340</td>\n",
       "      <td>[[85, 235, 178, 333]]</td>\n",
       "      <td>[4]</td>\n",
       "    </tr>\n",
       "    <tr>\n",
       "      <th>3</th>\n",
       "      <td>140589</td>\n",
       "      <td>NaN</td>\n",
       "      <td>NaN</td>\n",
       "    </tr>\n",
       "    <tr>\n",
       "      <th>4</th>\n",
       "      <td>20235</td>\n",
       "      <td>NaN</td>\n",
       "      <td>NaN</td>\n",
       "    </tr>\n",
       "    <tr>\n",
       "      <th>...</th>\n",
       "      <td>...</td>\n",
       "      <td>...</td>\n",
       "      <td>...</td>\n",
       "    </tr>\n",
       "    <tr>\n",
       "      <th>5148</th>\n",
       "      <td>3575</td>\n",
       "      <td>NaN</td>\n",
       "      <td>NaN</td>\n",
       "    </tr>\n",
       "    <tr>\n",
       "      <th>5149</th>\n",
       "      <td>190</td>\n",
       "      <td>NaN</td>\n",
       "      <td>NaN</td>\n",
       "    </tr>\n",
       "    <tr>\n",
       "      <th>5150</th>\n",
       "      <td>1404</td>\n",
       "      <td>NaN</td>\n",
       "      <td>NaN</td>\n",
       "    </tr>\n",
       "    <tr>\n",
       "      <th>5151</th>\n",
       "      <td>184</td>\n",
       "      <td>NaN</td>\n",
       "      <td>NaN</td>\n",
       "    </tr>\n",
       "    <tr>\n",
       "      <th>5152</th>\n",
       "      <td>1376</td>\n",
       "      <td>NaN</td>\n",
       "      <td>NaN</td>\n",
       "    </tr>\n",
       "  </tbody>\n",
       "</table>\n",
       "<p>5153 rows × 3 columns</p>\n",
       "</div>"
      ],
      "text/plain": [
       "      Image File              Annotation Label\n",
       "0          18999  [[281, 183, 339, 266]]   [1]\n",
       "1         102037  [[263, 171, 359, 263]]   [4]\n",
       "2         138340   [[85, 235, 178, 333]]   [4]\n",
       "3         140589                     NaN   NaN\n",
       "4          20235                     NaN   NaN\n",
       "...          ...                     ...   ...\n",
       "5148        3575                     NaN   NaN\n",
       "5149         190                     NaN   NaN\n",
       "5150        1404                     NaN   NaN\n",
       "5151         184                     NaN   NaN\n",
       "5152        1376                     NaN   NaN\n",
       "\n",
       "[5153 rows x 3 columns]"
      ]
     },
     "execution_count": 28,
     "metadata": {},
     "output_type": "execute_result"
    }
   ],
   "source": [
    "import pandas as pd\n",
    "sample_submission = pd.read_csv('data/liver-ultrasound-detection-unzip/sample_submission.csv')\n",
    "submission = sample_submission.copy()\n",
    "submission"
   ]
  },
  {
   "cell_type": "code",
   "execution_count": 29,
   "id": "40a2c9a7-887d-49b0-84c3-6c8e01617f5f",
   "metadata": {},
   "outputs": [
    {
     "data": {
      "text/plain": [
       "0                             [[281, 183, 339, 266]]\n",
       "1                             [[263, 171, 359, 263]]\n",
       "2                              [[85, 235, 178, 333]]\n",
       "24      [[270, 195, 335, 253], [268, 264, 316, 286]]\n",
       "115     [[387, 268, 513, 361], [427, 203, 456, 237]]\n",
       "1001                                              []\n",
       "Name: Annotation, dtype: object"
      ]
     },
     "execution_count": 29,
     "metadata": {},
     "output_type": "execute_result"
    }
   ],
   "source": [
    "sample_submission.loc[~sample_submission['Annotation'].isna().values, 'Annotation']"
   ]
  },
  {
   "cell_type": "code",
   "execution_count": 30,
   "id": "110157b1-2034-451b-a231-ded457b6c653",
   "metadata": {},
   "outputs": [
    {
     "data": {
      "text/plain": [
       "Index([0, 1, 2, 24, 115, 1001], dtype='int64')"
      ]
     },
     "execution_count": 30,
     "metadata": {},
     "output_type": "execute_result"
    }
   ],
   "source": [
    "index_sample = sample_submission.loc[~sample_submission['Annotation'].isna().values, 'Annotation'].index\n",
    "index_sample"
   ]
  },
  {
   "cell_type": "code",
   "execution_count": 50,
   "id": "9b334a22-45d5-4a69-bcf3-ecc39a67dc4c",
   "metadata": {},
   "outputs": [
    {
     "data": {
      "application/vnd.jupyter.widget-view+json": {
       "model_id": "52c164e0181b4f6297cda0e8652d6d08",
       "version_major": 2,
       "version_minor": 0
      },
      "text/plain": [
       "  0%|          | 0/5153 [00:00<?, ?it/s]"
      ]
     },
     "metadata": {},
     "output_type": "display_data"
    }
   ],
   "source": [
    "from tqdm.notebook import tqdm, trange\n",
    "for i in trange(submission.shape[0]):\n",
    "  if i in index_sample:\n",
    "      continue\n",
    "  results = model('data/liver-ultrasound-detection-unzip/images/test/' + str(submission.iloc[i, 0]) + '.jpg', conf=0.43, verbose=False)\n",
    "  submission.loc[i,'Annotation'] = str(results[0].boxes.xyxy.round().cpu().numpy().astype(int).tolist())\n",
    "  submission.loc[i,'Label'] = str(results[0].boxes.cls.cpu().numpy().astype(int).tolist())"
   ]
  },
  {
   "cell_type": "code",
   "execution_count": 51,
   "id": "0045043d-5f47-4250-a1e6-cc0b8ca7658b",
   "metadata": {},
   "outputs": [
    {
     "data": {
      "text/html": [
       "<div>\n",
       "<style scoped>\n",
       "    .dataframe tbody tr th:only-of-type {\n",
       "        vertical-align: middle;\n",
       "    }\n",
       "\n",
       "    .dataframe tbody tr th {\n",
       "        vertical-align: top;\n",
       "    }\n",
       "\n",
       "    .dataframe thead th {\n",
       "        text-align: right;\n",
       "    }\n",
       "</style>\n",
       "<table border=\"1\" class=\"dataframe\">\n",
       "  <thead>\n",
       "    <tr style=\"text-align: right;\">\n",
       "      <th></th>\n",
       "      <th>Image File</th>\n",
       "      <th>Annotation</th>\n",
       "      <th>Label</th>\n",
       "    </tr>\n",
       "  </thead>\n",
       "  <tbody>\n",
       "    <tr>\n",
       "      <th>0</th>\n",
       "      <td>18999</td>\n",
       "      <td>[[281, 183, 339, 266]]</td>\n",
       "      <td>[1]</td>\n",
       "    </tr>\n",
       "    <tr>\n",
       "      <th>1</th>\n",
       "      <td>102037</td>\n",
       "      <td>[[263, 171, 359, 263]]</td>\n",
       "      <td>[4]</td>\n",
       "    </tr>\n",
       "    <tr>\n",
       "      <th>2</th>\n",
       "      <td>138340</td>\n",
       "      <td>[[85, 235, 178, 333]]</td>\n",
       "      <td>[4]</td>\n",
       "    </tr>\n",
       "    <tr>\n",
       "      <th>3</th>\n",
       "      <td>140589</td>\n",
       "      <td>[[597, 375, 659, 439]]</td>\n",
       "      <td>[4]</td>\n",
       "    </tr>\n",
       "    <tr>\n",
       "      <th>4</th>\n",
       "      <td>20235</td>\n",
       "      <td>[[295, 115, 341, 151]]</td>\n",
       "      <td>[1]</td>\n",
       "    </tr>\n",
       "    <tr>\n",
       "      <th>...</th>\n",
       "      <td>...</td>\n",
       "      <td>...</td>\n",
       "      <td>...</td>\n",
       "    </tr>\n",
       "    <tr>\n",
       "      <th>5148</th>\n",
       "      <td>3575</td>\n",
       "      <td>[]</td>\n",
       "      <td>[]</td>\n",
       "    </tr>\n",
       "    <tr>\n",
       "      <th>5149</th>\n",
       "      <td>190</td>\n",
       "      <td>[]</td>\n",
       "      <td>[]</td>\n",
       "    </tr>\n",
       "    <tr>\n",
       "      <th>5150</th>\n",
       "      <td>1404</td>\n",
       "      <td>[[1270, 882, 1489, 1080]]</td>\n",
       "      <td>[3]</td>\n",
       "    </tr>\n",
       "    <tr>\n",
       "      <th>5151</th>\n",
       "      <td>184</td>\n",
       "      <td>[]</td>\n",
       "      <td>[]</td>\n",
       "    </tr>\n",
       "    <tr>\n",
       "      <th>5152</th>\n",
       "      <td>1376</td>\n",
       "      <td>[]</td>\n",
       "      <td>[]</td>\n",
       "    </tr>\n",
       "  </tbody>\n",
       "</table>\n",
       "<p>5153 rows × 3 columns</p>\n",
       "</div>"
      ],
      "text/plain": [
       "      Image File                 Annotation Label\n",
       "0          18999     [[281, 183, 339, 266]]   [1]\n",
       "1         102037     [[263, 171, 359, 263]]   [4]\n",
       "2         138340      [[85, 235, 178, 333]]   [4]\n",
       "3         140589     [[597, 375, 659, 439]]   [4]\n",
       "4          20235     [[295, 115, 341, 151]]   [1]\n",
       "...          ...                        ...   ...\n",
       "5148        3575                         []    []\n",
       "5149         190                         []    []\n",
       "5150        1404  [[1270, 882, 1489, 1080]]   [3]\n",
       "5151         184                         []    []\n",
       "5152        1376                         []    []\n",
       "\n",
       "[5153 rows x 3 columns]"
      ]
     },
     "execution_count": 51,
     "metadata": {},
     "output_type": "execute_result"
    }
   ],
   "source": [
    "submission"
   ]
  },
  {
   "cell_type": "code",
   "execution_count": 52,
   "id": "20d55272-1da8-4950-b459-e8e34e34967d",
   "metadata": {},
   "outputs": [
    {
     "name": "stdout",
     "output_type": "stream",
     "text": [
      "True\n",
      "True\n",
      "True\n",
      "True\n",
      "True\n",
      "True\n"
     ]
    }
   ],
   "source": [
    "print(submission.loc[0, 'Label'] == sample_submission.loc[0, 'Label'])\n",
    "print(submission.loc[1, 'Label'] == sample_submission.loc[1, 'Label'])\n",
    "print(submission.loc[2, 'Label'] == sample_submission.loc[2, 'Label'])\n",
    "print(submission.loc[24, 'Label'] == sample_submission.loc[24, 'Label'])\n",
    "print(submission.loc[115, 'Label'] == sample_submission.loc[115, 'Label'])\n",
    "print(submission.loc[1001, 'Label'] == sample_submission.loc[1001, 'Label'])"
   ]
  },
  {
   "cell_type": "code",
   "execution_count": 53,
   "id": "35c6d264-4b6f-4621-ba59-0e99d75f51e6",
   "metadata": {},
   "outputs": [
    {
     "data": {
      "text/plain": [
       "3583"
      ]
     },
     "execution_count": 53,
     "metadata": {},
     "output_type": "execute_result"
    }
   ],
   "source": [
    "sum(submission['Label'] == '[]')"
   ]
  },
  {
   "cell_type": "code",
   "execution_count": 54,
   "id": "0b002a16-59e7-4e44-b5f9-b06f5fb2e89e",
   "metadata": {},
   "outputs": [
    {
     "data": {
      "text/plain": [
       "5075"
      ]
     },
     "execution_count": 54,
     "metadata": {},
     "output_type": "execute_result"
    }
   ],
   "source": [
    "sum(pd.read_csv('submission_yoloV9e39ep_conf042.csv')['Annotation'] == submission['Annotation'])"
   ]
  },
  {
   "cell_type": "code",
   "execution_count": 44,
   "id": "db791d2e-6668-44e3-910f-6abb03a630fe",
   "metadata": {},
   "outputs": [],
   "source": [
    "submission.to_csv('submission_yoloV9e39ep_conf043.csv', index = False)"
   ]
  },
  {
   "cell_type": "code",
   "execution_count": null,
   "id": "d2d7a053-8857-4559-ae84-a993e01515a8",
   "metadata": {},
   "outputs": [],
   "source": []
  },
  {
   "cell_type": "code",
   "execution_count": null,
   "id": "f1665631-dacd-4d91-9cdb-a73715432a8a",
   "metadata": {},
   "outputs": [],
   "source": []
  },
  {
   "cell_type": "code",
   "execution_count": 7,
   "id": "9350698d-e86e-44fc-8f80-07925d0d3e9b",
   "metadata": {},
   "outputs": [
    {
     "name": "stdout",
     "output_type": "stream",
     "text": [
      "Thu May 30 23:41:52 2024       \n",
      "+-----------------------------------------------------------------------------+\n",
      "| NVIDIA-SMI 525.105.17   Driver Version: 525.105.17   CUDA Version: 12.0     |\n",
      "|-------------------------------+----------------------+----------------------+\n",
      "| GPU  Name        Persistence-M| Bus-Id        Disp.A | Volatile Uncorr. ECC |\n",
      "| Fan  Temp  Perf  Pwr:Usage/Cap|         Memory-Usage | GPU-Util  Compute M. |\n",
      "|                               |                      |               MIG M. |\n",
      "|===============================+======================+======================|\n",
      "|   0  NVIDIA A100-SXM...  On   | 00000000:03:00.0 Off |                    0 |\n",
      "| N/A   37C    P0    53W / 400W |      0MiB / 40960MiB |      0%      Default |\n",
      "|                               |                      |             Disabled |\n",
      "+-------------------------------+----------------------+----------------------+\n",
      "|   1  NVIDIA A100-SXM...  On   | 00000000:41:00.0 Off |                    0 |\n",
      "| N/A   36C    P0    53W / 400W |      0MiB / 40960MiB |      0%      Default |\n",
      "|                               |                      |             Disabled |\n",
      "+-------------------------------+----------------------+----------------------+\n",
      "|   2  NVIDIA A100-SXM...  On   | 00000000:81:00.0 Off |                    0 |\n",
      "| N/A   37C    P0    49W / 400W |      0MiB / 40960MiB |      0%      Default |\n",
      "|                               |                      |             Disabled |\n",
      "+-------------------------------+----------------------+----------------------+\n",
      "|   3  NVIDIA A100-SXM...  On   | 00000000:C1:00.0 Off |                    0 |\n",
      "| N/A   35C    P0    50W / 400W |      0MiB / 40960MiB |      0%      Default |\n",
      "|                               |                      |             Disabled |\n",
      "+-------------------------------+----------------------+----------------------+\n",
      "                                                                               \n",
      "+-----------------------------------------------------------------------------+\n",
      "| Processes:                                                                  |\n",
      "|  GPU   GI   CI        PID   Type   Process name                  GPU Memory |\n",
      "|        ID   ID                                                   Usage      |\n",
      "|=============================================================================|\n",
      "|  No running processes found                                                 |\n",
      "+-----------------------------------------------------------------------------+\n"
     ]
    }
   ],
   "source": [
    "!nvidia-smi"
   ]
  },
  {
   "cell_type": "code",
   "execution_count": null,
   "id": "d60f70a6-f850-4aec-9786-784d3180ad2a",
   "metadata": {},
   "outputs": [],
   "source": []
  }
 ],
 "metadata": {
  "kernelspec": {
   "display_name": "Python 3 (ipykernel)",
   "language": "python",
   "name": "python3"
  },
  "language_info": {
   "codemirror_mode": {
    "name": "ipython",
    "version": 3
   },
   "file_extension": ".py",
   "mimetype": "text/x-python",
   "name": "python",
   "nbconvert_exporter": "python",
   "pygments_lexer": "ipython3",
   "version": "3.9.19"
  }
 },
 "nbformat": 4,
 "nbformat_minor": 5
}
